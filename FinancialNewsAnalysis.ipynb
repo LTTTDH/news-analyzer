{
  "nbformat": 4,
  "nbformat_minor": 0,
  "metadata": {
    "colab": {
      "provenance": [],
      "authorship_tag": "ABX9TyNx1lixHluIABJgwprxbcpK",
      "include_colab_link": true
    },
    "kernelspec": {
      "name": "python3",
      "display_name": "Python 3"
    },
    "language_info": {
      "name": "python"
    }
  },
  "cells": [
    {
      "cell_type": "markdown",
      "metadata": {
        "id": "view-in-github",
        "colab_type": "text"
      },
      "source": [
        "<a href=\"https://colab.research.google.com/github/bytewax/news-analyzer/blob/main/FinancialNewsAnalysis.ipynb\" target=\"_parent\"><img src=\"https://colab.research.google.com/assets/colab-badge.svg\" alt=\"Open In Colab\"/></a>"
      ]
    },
    {
      "cell_type": "markdown",
      "source": [
        "## Using Language Models in a Streaming Context to Understand Financial Markets.\n",
        "\n",
        "Effective analysis of news is crucial for understanding the world, especially when it comes to financial markets. Being able to quickly identify significant events, such as a major corporation being hacked and sensitive customer data being compromised, can enable you to respond rapidly and either capitalize on opportunities or minimize losses.\n",
        "In this blog post, we'll delve into how Bytewax and large language models can be leveraged to analyze financial news in real time, providing you with the ability to respond to breaking news more effectively.\n",
        "We need to answer at least three questions to implement our little project successfully:\n",
        "* Where do we get the data?\n",
        "* How do we analyze it?\n",
        "* How do we access the data source and perform analysis in real-time?\n",
        "\n",
        "## Data Source\n",
        "For the data source used in this demo, we will use the [Alpaca news API](https://alpaca.markets/docs/market-data/news/#real-time-streaming), which provides websocket access to news articles from Benzinga. To setup an account and create an API key and secret, you can follow the [Alpaca documentation](https://alpaca.markets/docs/market-data/getting-started/). _You can use any websocket as a data source. A future follow-up will look at how we can build our own real-time news aggregation pipeline for analysis._\n",
        "\n",
        "## Content Analysis\n",
        "We're obviously going to leverage Large Language Models (LLMs) to analyze news articles.\n",
        "And the best place which comes to mind when looking for LLMs is Hugging Face.\n",
        "[Hugging Face](https://huggingface.co/) is a company that provides a marketplace where researchers can release models and datasets on their hub that can then be used by other researchers and developers via their hosted model endpoints and their Transformers library.\n",
        "Firstly, we need to perform sentiment analysis on the headline, which can quickly provide valuable insights. For this, we'll use a fine-tuned BERT model called [FinancialBERT](https://huggingface.co/ahmedrachid/FinancialBERT-Sentiment-Analysis). Then we will summarize the content of the article, and a fine-tuned [BART model](https://huggingface.co/facebook/bart-large-cnn) will come in handy for this. Both can be found on [huggingface.co](https://huggingface.co).\n",
        "We also are going to cover how we can use the Transformers library to run the models.\n",
        "\n",
        "## Real-Time Data Processing with Bytewax\n",
        "If you are not familiar with Bytewax. Bytewax is a stateful stream processor that can be used to analyze data in real time with support for stateful operators like windowing and aggregation. Bytewax is especially suitable for workflows that leverage the Python ecosystem of tools, from data crunching tools like Pandas to machine learning-focused tools like Hugging Face Transformers. It also supports a variety of data sources, including websockets.\n",
        "\n",
        "Let's get started analyzing the news in real-time. First things first!\n",
        "Dependencies:"
      ],
      "metadata": {
        "id": "_hj-OUjTYoVv"
      }
    },
    {
      "cell_type": "code",
      "source": [
        "!pip install bytewax transformers torch sentencepiece websocket-client"
      ],
      "metadata": {
        "colab": {
          "base_uri": "https://localhost:8080/"
        },
        "id": "XoS28pQZaxgN",
        "outputId": "88ea7b6d-c628-463d-9b61-974e9aba674e"
      },
      "execution_count": 20,
      "outputs": [
        {
          "output_type": "stream",
          "name": "stdout",
          "text": [
            "Looking in indexes: https://pypi.org/simple, https://us-python.pkg.dev/colab-wheels/public/simple/\n",
            "Requirement already satisfied: bytewax in /usr/local/lib/python3.8/dist-packages (0.15.1)\n",
            "Requirement already satisfied: transformers in /usr/local/lib/python3.8/dist-packages (4.26.1)\n",
            "Requirement already satisfied: torch in /usr/local/lib/python3.8/dist-packages (1.13.1+cu116)\n",
            "Requirement already satisfied: sentencepiece in /usr/local/lib/python3.8/dist-packages (0.1.97)\n",
            "Requirement already satisfied: websocket-client in /usr/local/lib/python3.8/dist-packages (1.5.1)\n",
            "Requirement already satisfied: multiprocess>=0.70 in /usr/local/lib/python3.8/dist-packages (from bytewax) (0.70.14)\n",
            "Requirement already satisfied: dill>=0.3.5 in /usr/local/lib/python3.8/dist-packages (from bytewax) (0.3.6)\n",
            "Requirement already satisfied: numpy>=1.17 in /usr/local/lib/python3.8/dist-packages (from transformers) (1.22.4)\n",
            "Requirement already satisfied: tokenizers!=0.11.3,<0.14,>=0.11.1 in /usr/local/lib/python3.8/dist-packages (from transformers) (0.13.2)\n",
            "Requirement already satisfied: pyyaml>=5.1 in /usr/local/lib/python3.8/dist-packages (from transformers) (6.0)\n",
            "Requirement already satisfied: filelock in /usr/local/lib/python3.8/dist-packages (from transformers) (3.9.0)\n",
            "Requirement already satisfied: packaging>=20.0 in /usr/local/lib/python3.8/dist-packages (from transformers) (23.0)\n",
            "Requirement already satisfied: regex!=2019.12.17 in /usr/local/lib/python3.8/dist-packages (from transformers) (2022.6.2)\n",
            "Requirement already satisfied: huggingface-hub<1.0,>=0.11.0 in /usr/local/lib/python3.8/dist-packages (from transformers) (0.12.1)\n",
            "Requirement already satisfied: requests in /usr/local/lib/python3.8/dist-packages (from transformers) (2.25.1)\n",
            "Requirement already satisfied: tqdm>=4.27 in /usr/local/lib/python3.8/dist-packages (from transformers) (4.64.1)\n",
            "Requirement already satisfied: typing-extensions in /usr/local/lib/python3.8/dist-packages (from torch) (4.5.0)\n",
            "Requirement already satisfied: urllib3<1.27,>=1.21.1 in /usr/local/lib/python3.8/dist-packages (from requests->transformers) (1.26.14)\n",
            "Requirement already satisfied: certifi>=2017.4.17 in /usr/local/lib/python3.8/dist-packages (from requests->transformers) (2022.12.7)\n",
            "Requirement already satisfied: idna<3,>=2.5 in /usr/local/lib/python3.8/dist-packages (from requests->transformers) (2.10)\n",
            "Requirement already satisfied: chardet<5,>=3.0.2 in /usr/local/lib/python3.8/dist-packages (from requests->transformers) (4.0.0)\n"
          ]
        }
      ]
    },
    {
      "cell_type": "markdown",
      "source": [
        "### Constructing Our Dataflow\n",
        "\n",
        "A Dataflow is a sequence of steps that transform data from an input source and then write it to an output. At each step an operator is used to control the flow of data; whether it should be filtered, aggregated or accumulated. Developers writing dataflows will write Python code that will do the data transformation at each step.  \n",
        "\n",
        "### Input\n",
        "\n",
        "Now we can start writing our dataflow. First we will construct an input based on the Alpaca websocket that we use to subscribe to articles about multiple tickers. Note that you will need an Alpaca API key and secret and you should store them as environment variables."
      ],
      "metadata": {
        "id": "WyE7SApAZwPU"
      }
    },
    {
      "cell_type": "code",
      "source": [
        "import os\n",
        "import json\n",
        "\n",
        "from bytewax.dataflow import Dataflow\n",
        "from bytewax.inputs import ManualInputConfig, distribute\n",
        "\n",
        "from websocket import create_connection\n",
        "\n",
        "API_KEY = os.getenv(\"API_KEY\")\n",
        "API_SECRET = os.getenv(\"API_SECRET\")\n",
        "\n",
        "ticker_list = [\"*\"]\n",
        "\n",
        "\n",
        "def input_builder(worker_index, worker_count, resume_state):\n",
        "    state = resume_state or None\n",
        "    worker_tickers = list(distribute(ticker_list, worker_index, worker_count))\n",
        "    print({\"subscribing to\": worker_tickers})\n",
        "\n",
        "    def news_input(worker_tickers, state):\n",
        "        ws = create_connection(\"wss://stream.data.alpaca.markets/v1beta1/news\")\n",
        "        print(ws.recv())\n",
        "        ws.send(json.dumps({\"action\":\"auth\",\"key\":f\"{API_KEY}\",\"secret\":f\"{API_SECRET}\"}))\n",
        "        print(ws.recv())\n",
        "        ws.send(json.dumps({\"action\":\"subscribe\",\"news\":worker_tickers}))\n",
        "        print(ws.recv())\n",
        "        \n",
        "        while True:\n",
        "        # to use without API uncomment the below line and comment the one below that\n",
        "        # articles = [{\"T\":\"n\",\"id\":31248067,\"headline\":\"Tesla Vehicles Could Be Banned From Leaving During A Hurricane In This State\",\"summary\":\"A lawmaker in one American state could make it hard for owners of electric vehicles to get out of the state in the event of a hurricane. Here’s the potential law and why it’s important.\",\"author\":\"Chris Katje\",\"created_at\":\"2023-03-07T22:58:40Z\",\"updated_at\":\"2023-03-07T22:58:40Z\",\"url\":\"https://www.benzinga.com/news/23/03/31248067/tesla-vehicles-could-be-banned-from-leaving-during-a-hurricane-in-this-state\",\"content\":\"\\u003cp\\u003eA lawmaker in one American state could make it hard for owners of electric vehicles to get out of the state in the event of a hurricane. Here\\u0026rsquo;s the potential law and why it\\u0026rsquo;s important.\\u003c/p\\u003e\\r\\n\\r\\n\\u003cp\\u003e\\u003cstrong\\u003eWhat Happened:\\u003c/strong\\u003e States have passed laws aimed at banning the sale of gas-powered vehicles in the future. One state took it a step further by seeking to ban electric vehicle \\u003ca href=\\\"https://www.benzinga.com/news/23/01/30424292/taking-on-elon-musk-this-state-legislature-could-ban-electric-vehicle-sales-by-2035\\\"\\u003esales in the future.\\u003c/a\\u003e\\u003c/p\\u003e\\r\\n\\r\\n\\u003cp\\u003eOne of the leading states for electric vehicle purchases could now see a temporary ban on using electric vehicles during the time of a crisis.\\u003c/p\\u003e\\r\\n\\r\\n\\u003cp\\u003eFlorida Republican state Sen.\\u0026nbsp;\\u003cstrong\\u003eJonathan Martin\\u003c/strong\\u003e is considering legislation to ban electric vehicles like those from \\u003cstrong\\u003eTesla Inc\\u003c/strong\\u003e (NASDAQ:\\u003ca class=\\\"ticker\\\" href=\\\"https://www.benzinga.com/stock/TSLA#NASDAQ\\\"\\u003eTSLA\\u003c/a\\u003e) to be used during hurricane evacuations in the state, according to \\u003ca href=\\\"https://electrek.co/2023/03/06/florida-lawmaker-wants-to-ban-evs-from-hurricane-evacuations/\\\"\\u003eElectrek\\u003c/a\\u003e.\\u0026nbsp;\\u003c/p\\u003e\\r\\n\\r\\n\\u003cp\\u003eMartin told the state\\u0026rsquo;s Department of Transportation that electric vehicles could block traffic during evacuations if they run out of battery charge.\\u003c/p\\u003e\\r\\n\\r\\n\\u003cp\\u003eMartin serves on the Committee on Environment and Natural Resources and the Select Committee on Resiliency.\\u003c/p\\u003e\\r\\n\\r\\n\\u003cp\\u003eThe Select Committee on Resiliency met with the Florida Department of Transportation executive director of transportation technologies in Florida.\\u003c/p\\u003e\\r\\n\\r\\n\\u003cp\\u003eAmong the topics discussed were the $198 million the state is going to get from the Bipartisan Infrastructure Law for electric vehicle charging infrastructure from the current administration led by \\u003cstrong\\u003ePresident Joe Biden.\\u003c/strong\\u003e\\u003c/p\\u003e\\r\\n\\r\\n\\u003cp\\u003eThe legislation requires electric vehicle charging stations to be 50 miles apart and serve all electric vehicles.\\u003c/p\\u003e\\r\\n\\r\\n\\u003cp\\u003e\\u0026ldquo;With a couple of guys behind you, you can\\u0026rsquo;t get out of the car and push it to the side of the road. Traffic backs up. And what might look like a two-hour trip might turn into an eight-hour trip once you\\u0026rsquo;re on the road,\\u0026rdquo; Martin said.\\u003c/p\\u003e\\r\\n\\r\\n\\u003cp\\u003eMartin said his concern is with the electric vehicle infrastructure available in the state of Florida.\\u003c/p\\u003e\\r\\n\\r\\n\\u003cp\\u003e\\u003cem\\u003eRelated Link: \\u003ca href=\\\"https://www.benzinga.com/trading-ideas/22/06/27568560/4-stocks-to-watch-this-hurricane-season\\\"\\u003e4 Stocks To Watch This Hurricane Season\\u0026nbsp;\\u003c/a\\u003e\\u003c/em\\u003e\\u003c/p\\u003e\\r\\n\\r\\n\\u003cp\\u003e\\u003cstrong\\u003eWhy It\\u0026rsquo;s Important:\\u003c/strong\\u003e The Florida Department of Transportation told Martin it isn\\u0026rsquo;t a fan of banning electric vehicles during hurricane evacuations and that it is looking into portable EV chargers.\\u003c/p\\u003e\\r\\n\\r\\n\\u003cp\\u003e\\u0026ldquo;We have our emergency assistance vehicles that we deploy during a hurricane evacuation that have gas \\u0026hellip; we need to provide that same level of service to electrical vehicles,\\u0026rdquo; Department of Transportation director of transportation technologies \\u003cstrong\\u003eTrey Tillander \\u003c/strong\\u003esaid.\\u003c/p\\u003e\\r\\n\\r\\n\\u003cp\\u003eThe Tampa Bay Times \\u003ca href=\\\"https://www.tampabay.com/hurricane/2023/02/24/florida-lawmaker-suggests-limiting-electric-vehicles-during-hurricane-evacuations/\\\"\\u003ereported\\u003c/a\\u003e\\u0026nbsp;around 1% of the vehicles in Florida are electric vehicles. One of the owners of an EV is state Sen.\\u0026nbsp;\\u003cstrong\\u003eTina Polsky.\\u003c/strong\\u003e\\u003c/p\\u003e\\r\\n\\r\\n\\u003cp\\u003e\\u0026ldquo;I don\\u0026rsquo;t think you can ban an electric vehicle from evacuating because that may be the only car someone has,\\u0026rdquo; Polsky said.\\u003c/p\\u003e\\r\\n\\r\\n\\u003cp\\u003eIn December 2022, there were 203,094 electric vehicles registered in the state of Florida.\\u003c/p\\u003e\\r\\n\\r\\n\\u003cp\\u003eThe increased funding for charging infrastructure could help ease concerns over charging.\\u003c/p\\u003e\\r\\n\\r\\n\\u003cp\\u003eUltimately, once people are on the road headed out of the state, they likely won\\u0026rsquo;t be able to stop at a charging station, similar to people not being able to quickly stop at a gas station.\\u003c/p\\u003e\\r\\n\\r\\n\\u003cp\\u003eJust like people prepare for the evacuation by filling up their vehicle with gas, owners of electric vehicles will likely need to fully charge their vehicle before evacuating the state.\\u003c/p\\u003e\\r\\n\\r\\n\\u003cp\\u003eThe comments from the state senator may have Florida residents thinking about owning at least one non-electric vehicle or a hybrid to ensure they have the best chance to exit the state without future restrictions and without the potential of running out of charge and not finding stations prevalent.\\u003c/p\\u003e\\r\\n\\r\\n\\u003cp\\u003e\\u003cem\\u003eRead Next:\\u0026nbsp;\\u003ca href=\\\"https://www.benzinga.com/analyst-ratings/analyst-color/23/03/31172188/tesla-analysts-praise-vertical-integration-after-investor-day-but-want-more-from-el\\\"\\u003eTesla Analysts Praise Vertical Integration After Investor Day, But Want More From Elon Musk: \\u0026#39;Long On Vision, Short On Specifics\\u0026#39;\\u003c/a\\u003e\\u003c/em\\u003e\\u003c/p\\u003e\\r\\n\\r\\n\\u003cp\\u003e\\u003cem\\u003ePhoto:\\u0026nbsp;\\u003ca href=\\\"https://www.shutterstock.com/g/hsaduraphotos\\\"\\u003eHenryk Sadura\\u003c/a\\u003e\\u0026nbsp;via Shutterstock\\u003c/em\\u003e\\u003c/p\\u003e\\r\\n\\r\\n\\u003cp\\u003e\\u003cbr /\\u003e\\r\\n\\u0026nbsp;\\u003c/p\\u003e\\r\\n\",\"symbols\":[\"TSLA\"],\"source\":\"benzinga\"}]\n",
        "          articles = json.loads(ws.recv())\n",
        "          for article in articles:\n",
        "            yield state, (article[\"source\"], article)\n",
        "\n",
        "    return news_input(worker_tickers, state)\n",
        "\n",
        "\n",
        "flow = Dataflow()\n",
        "flow.input(\"inp\", ManualInputConfig(input_builder))"
      ],
      "metadata": {
        "id": "ggzpLJyXbTJT"
      },
      "execution_count": 26,
      "outputs": []
    },
    {
      "cell_type": "markdown",
      "source": [
        "The resulting data returned from the news API looks like the json shown here.\n",
        "\n",
        "```json\n",
        "[{\"T\":\"n\",\"id\":31248067,\"headline\":\"Tesla Vehicles Could Be Banned From Leaving During A Hurricane In This State\",\"summary\":\"A lawmaker in one American state could make it hard for owners of electric vehicles to get out of the state in the event of a hurricane. Here’s the potential law and why it’s important.\",\"author\":\"Chris Katje\",\"created_at\":\"2023-03-07T22:58:40Z\",\"updated_at\":\"2023-03-07T22:58:40Z\",\"url\":\"https://www.benzinga.com/news/23/03/31248067/tesla-vehicles-could-be-banned-from-leaving-during-a-hurricane-in-this-state\",\"content\":\"\\u003cp\\u003eA lawmaker in one American state could make it hard for owners of electric vehicles ... ertical Integration After Investor Day, But Want More From Elon Musk: \\u0026#39;Long On Vision, Short On Specifics\\u0026#39;\\u003c/a\\u003e\\u003c/em\\u003e\\u003c/p\\u003e\\r\\n\\r\\n\\u003cp\\u003e\\u003cem\\u003ePhoto:\\u0026nbsp;\\u003ca href=\\\"https://www.shutterstock.com/g/hsaduraphotos\\\"\\u003eHenryk Sadura\\u003c/a\\u003e\\u0026nbsp;via Shutterstock\\u003c/em\\u003e\\u003c/p\\u003e\\r\\n\\r\\n\\u003cp\\u003e\\u003cbr /\\u003e\\r\\n\\u0026nbsp;\\u003c/p\\u003e\\r\\n\",\"symbols\":[\"TSLA\"],\"source\":\"benzinga\"}]\n",
        "```\n",
        "\n",
        " We will use this in the next steps in our dataflow to analyze the sentiment and provide a summary."
      ],
      "metadata": {
        "id": "OeIGJrUqduBb"
      }
    },
    {
      "cell_type": "markdown",
      "source": [
        "### Managing Duplicates and Updates\n",
        "\n",
        "When we receive news stories from RSS/Atom feeds or from news APIs they are often sent multiple times as they are created and then updated. We will use Bytewax operator, [`stateful_map`](https://www.bytewax.io/apidocs/bytewax.dataflow#bytewax.dataflow.Dataflow.stateful_map), to make an overly simplified storage layer to prevent duplicate stories from being analyzed more than once so we don't incur additional overhead running our ML models on the story multiple times.\n",
        "\n",
        "We use a list of unique identifiers for each new news article we see as our simple storage layer. If we have seen the article before we will mark it as an update and if not, we will add the id of the article to the stateful object. We can then use the [`filter`](https://www.bytewax.io/apidocs/bytewax.dataflow#bytewax.dataflow.Dataflow.filter) operator to filter out the updates so we don't reclassify and summarize them. You can think of this as the equivalent of checking against a database for a unique id."
      ],
      "metadata": {
        "id": "2q0IRTWIcP8V"
      }
    },
    {
      "cell_type": "code",
      "source": [
        "def update_articles(articles, news):\n",
        "    if news['id'] in articles:\n",
        "        news['update'] = True\n",
        "    else:\n",
        "        articles.append(news['id'])\n",
        "        news['update'] = False\n",
        "    return articles, news\n",
        "\n",
        "flow.stateful_map(\"source_articles\", lambda: list(), update_articles)\n",
        "\n",
        "flow.filter(lambda x: not x[1]['update'])"
      ],
      "metadata": {
        "id": "ESuPQg_vbm_n"
      },
      "execution_count": 22,
      "outputs": []
    },
    {
      "cell_type": "markdown",
      "source": [
        "### Sentiment Analysis\n",
        "\n",
        "Next up, sentiment analysis. We will use the fine-tuned Hugging Face model to analyze whether the article title is of negative or positive sentiment. We are using a BERT model in this example. The BERT model architecture (Bidirectional Encoder Representations from Transformers) was originally created by Google. For more details on how this model works and was trained, you can check out the [model card](https://huggingface.co/ahmedrachid/FinancialBERT-Sentiment-Analysis) on Hugging Face or the [research paper](https://www.researchgate.net/publication/358284785_FinancialBERT_-_A_Pretrained_Language_Model_for_Financial_Text_Mining). The sentiment classification will happen in a map operator since we want to analyze every news article independently. Despite all the work that is put into researching novel model architectures and putting together the training datasets, implementation is deceptively easy. \n",
        "\n",
        "_If you are following along in a notebook, note that the model itself will take time to download initially._"
      ],
      "metadata": {
        "id": "UYzP8UBkiyZ8"
      }
    },
    {
      "cell_type": "code",
      "source": [
        "from transformers import AutoTokenizer, AutoModelForSequenceClassification, pipeline, AutoModelForSeq2SeqLM\n",
        "\n",
        "sent_tokenizer = AutoTokenizer.from_pretrained(\"ahmedrachid/FinancialBERT-Sentiment-Analysis\")\n",
        "sent_model = AutoModelForSequenceClassification.from_pretrained(\"ahmedrachid/FinancialBERT-Sentiment-Analysis\")\n",
        "sent_nlp = pipeline(\"sentiment-analysis\", model=sent_model, tokenizer=sent_tokenizer)\n",
        "\n",
        "def sentiment_analysis(ticker__news):\n",
        "    ticker, news = ticker__news\n",
        "    sentiment = sent_nlp([news[\"headline\"]])\n",
        "    news['sentiment'] = sentiment[0]\n",
        "    print(sentiment[0])\n",
        "    return (ticker, news)\n",
        "\n",
        "flow.map(sentiment_analysis)"
      ],
      "metadata": {
        "id": "jzE96qlli8gX"
      },
      "execution_count": 23,
      "outputs": []
    },
    {
      "cell_type": "markdown",
      "source": [
        "### Article Summarization\n",
        "\n",
        "With our Article analyzed for its sentiment, we will now use another language model to summarize the content of the article. Here we will use a BART (Bidirectional Auto-Regressive Transformers) model architecture which is a combination of Google's BERT and OpenAI's GPT architectures. Once again, despite all the hardwork put into developing the model, it is relatively easy to implement with Hugging Face Transformers library. We can create a summarization pipeline and use it in a map step. One additional step was added to this map step, which was to clean the text prior to summarizing it to get better results."
      ],
      "metadata": {
        "id": "AOPM4AVQjBIQ"
      }
    },
    {
      "cell_type": "code",
      "source": [
        "import re\n",
        "\n",
        "# Let's create a summarization pipeline\n",
        "sum_tokenizer = AutoTokenizer.from_pretrained(\"facebook/bart-large-cnn\")\n",
        "sum_model = AutoModelForSeq2SeqLM.from_pretrained(\"facebook/bart-large-cnn\")\n",
        "summarizer = pipeline(\"summarization\", tokenizer=sum_tokenizer, model=sum_model)\n",
        "tag_re = re.compile(r'(<!--.*?-->|<[^>]*>)')\n",
        "\n",
        "def summarize(ticker__news):\n",
        "    ticker, news = ticker__news\n",
        "    article = news['content']\n",
        "    article_no_tags = tag_re.sub('', article)\n",
        "    article_no_tags = article_no_tags.replace(\"\\r\", \"\").replace(\"\\n\", \"\")\n",
        "    summary = summarizer(article_no_tags, max_length=130, min_length=30, do_sample=False)\n",
        "    news['bart_summary'] = summary[0]['summary_text']\n",
        "    print(f\"bart summary:{summary[0]['summary_text']}\")\n",
        "    return (ticker, news)\n",
        "\n",
        "flow.map(summarize)"
      ],
      "metadata": {
        "id": "8ijcZhuYoRHt"
      },
      "execution_count": 24,
      "outputs": []
    },
    {
      "cell_type": "markdown",
      "source": [
        "### Output\n",
        "\n",
        "With our news analyzed, we can set a capture step  to output the modified news object and then run our dataflow. For this instance we are going to write the output to StdOut so we can easily view it, but in a production system we could write the results to a downstream kafka topic or database for further analysis. \n",
        "\n",
        "_If you are following along in a notebook, remember you have to be authenticated for this to work and will need to set your Alpaca API key and secret_"
      ],
      "metadata": {
        "id": "YybgHZWTpI-2"
      }
    },
    {
      "cell_type": "code",
      "source": [
        "from bytewax.execution import run_main\n",
        "from bytewax.outputs import StdOutputConfig\n",
        "\n",
        "flow.capture(StdOutputConfig())\n",
        "\n",
        "if __name__ == '__main__':\n",
        "    run_main(flow)"
      ],
      "metadata": {
        "colab": {
          "base_uri": "https://localhost:8080/"
        },
        "id": "1p3FCes8pHUQ",
        "outputId": "45143845-9eb3-49ac-defd-cfcbd3395d12"
      },
      "execution_count": 25,
      "outputs": [
        {
          "output_type": "stream",
          "name": "stdout",
          "text": [
            "{'subscribing to': ['*']}\n",
            "{'label': 'neutral', 'score': 0.9521949291229248}\n",
            "bart summary:Florida Republican state Sen. Jonathan Martin is considering legislation to ban electric vehicles during hurricane evacuations. Martin told the state's Department of Transportation that electric vehicles could block traffic during evacuations if they run out of battery charge.\n",
            "('benzinga', {'T': 'n', 'id': 31248067, 'headline': 'Tesla Vehicles Could Be Banned From Leaving During A Hurricane In This State', 'summary': 'A lawmaker in one American state could make it hard for owners of electric vehicles to get out of the state in the event of a hurricane. Here’s the potential law and why it’s important.', 'author': 'Chris Katje', 'created_at': '2023-03-07T22:58:40Z', 'updated_at': '2023-03-07T22:58:40Z', 'url': 'https://www.benzinga.com/news/23/03/31248067/tesla-vehicles-could-be-banned-from-leaving-during-a-hurricane-in-this-state', 'content': '<p>A lawmaker in one American state could make it hard for owners of electric vehicles to get out of the state in the event of a hurricane. Here&rsquo;s the potential law and why it&rsquo;s important.</p>\\r\\n\\r\\n<p><strong>What Happened:</strong> States have passed laws aimed at banning the sale of gas-powered vehicles in the future. One state took it a step further by seeking to ban electric vehicle <a href=\"https:... truncated"
          ]
        }
      ]
    }
  ]
}