{
  "nbformat": 4,
  "nbformat_minor": 0,
  "metadata": {
    "colab": {
      "provenance": [],
      "authorship_tag": "ABX9TyNzLymv23eZnopYukYG/XGS",
      "include_colab_link": true
    },
    "kernelspec": {
      "name": "python3",
      "display_name": "Python 3"
    },
    "language_info": {
      "name": "python"
    }
  },
  "cells": [
    {
      "cell_type": "markdown",
      "metadata": {
        "id": "view-in-github",
        "colab_type": "text"
      },
      "source": [
        "<a href=\"https://colab.research.google.com/github/bytewax/news-analyzer/blob/main/FinancialNewsAnalysis.ipynb\" target=\"_parent\"><img src=\"https://colab.research.google.com/assets/colab-badge.svg\" alt=\"Open In Colab\"/></a>"
      ]
    },
    {
      "cell_type": "markdown",
      "source": [
        "## Using Language Models in a Streaming Context to Understand Financial Markets.\n",
        "\n",
        "A key component to understanding what is going on in the world is ingesting and understanding the news. Especially with respect to financial markets. Tesla got hacked and lost all their customer data, the faster you know that, the faster you can react to profit or reduce your loss. \n",
        "\n",
        "In this post we are going to explore how you can use Bytewax to analyze financial news in real-time using readily available Language Models from Hugging Face. We will be using [FinancialBERT](https://huggingface.co/ahmedrachid/FinancialBERT-Sentiment-Analysis) and [Financial Pegasus](https://huggingface.co/human-centered-summarization/financial-summarization-pegasus) to analyze the content for a summary and to analyze the sentiment.\n",
        "\n",
        "We are going to use the Alpaca news API, but this could be extend to your own datasources or other API. A follow up will look at how we can build our own real-time news aggregation pipeline for analysis.\n",
        "\n",
        "When we receive news stories from RSS/Atom feeds or from news APIs they are often sent multiple times as they are created and then updated. We will use the Bytewax operator, `stateful_map` to take care of duplicate stories so we don't incur additional overhead running our ML models on the story multiple times.\n",
        "\n",
        "Let's get started Analyzing the news in real-time. First some dependencies."
      ],
      "metadata": {
        "id": "_hj-OUjTYoVv"
      }
    },
    {
      "cell_type": "code",
      "source": [
        "! pip install bytewax transformers torch sentencepiece websocket-client"
      ],
      "metadata": {
        "colab": {
          "base_uri": "https://localhost:8080/"
        },
        "id": "XoS28pQZaxgN",
        "outputId": "b59c8025-b156-40ef-84cf-7b666bfada2d"
      },
      "execution_count": 12,
      "outputs": [
        {
          "output_type": "stream",
          "name": "stdout",
          "text": [
            "Looking in indexes: https://pypi.org/simple, https://us-python.pkg.dev/colab-wheels/public/simple/\n",
            "Requirement already satisfied: bytewax in /usr/local/lib/python3.8/dist-packages (0.15.1)\n",
            "Requirement already satisfied: transformers in /usr/local/lib/python3.8/dist-packages (4.26.1)\n",
            "Requirement already satisfied: torch in /usr/local/lib/python3.8/dist-packages (1.13.1+cu116)\n",
            "Requirement already satisfied: sentencepiece in /usr/local/lib/python3.8/dist-packages (0.1.97)\n",
            "Requirement already satisfied: websocket-client in /usr/local/lib/python3.8/dist-packages (1.5.1)\n",
            "Requirement already satisfied: dill>=0.3.5 in /usr/local/lib/python3.8/dist-packages (from bytewax) (0.3.6)\n",
            "Requirement already satisfied: multiprocess>=0.70 in /usr/local/lib/python3.8/dist-packages (from bytewax) (0.70.14)\n",
            "Requirement already satisfied: tokenizers!=0.11.3,<0.14,>=0.11.1 in /usr/local/lib/python3.8/dist-packages (from transformers) (0.13.2)\n",
            "Requirement already satisfied: requests in /usr/local/lib/python3.8/dist-packages (from transformers) (2.25.1)\n",
            "Requirement already satisfied: filelock in /usr/local/lib/python3.8/dist-packages (from transformers) (3.9.0)\n",
            "Requirement already satisfied: packaging>=20.0 in /usr/local/lib/python3.8/dist-packages (from transformers) (23.0)\n",
            "Requirement already satisfied: tqdm>=4.27 in /usr/local/lib/python3.8/dist-packages (from transformers) (4.64.1)\n",
            "Requirement already satisfied: numpy>=1.17 in /usr/local/lib/python3.8/dist-packages (from transformers) (1.22.4)\n",
            "Requirement already satisfied: huggingface-hub<1.0,>=0.11.0 in /usr/local/lib/python3.8/dist-packages (from transformers) (0.12.1)\n",
            "Requirement already satisfied: pyyaml>=5.1 in /usr/local/lib/python3.8/dist-packages (from transformers) (6.0)\n",
            "Requirement already satisfied: regex!=2019.12.17 in /usr/local/lib/python3.8/dist-packages (from transformers) (2022.6.2)\n",
            "Requirement already satisfied: typing-extensions in /usr/local/lib/python3.8/dist-packages (from torch) (4.5.0)\n",
            "Requirement already satisfied: certifi>=2017.4.17 in /usr/local/lib/python3.8/dist-packages (from requests->transformers) (2022.12.7)\n",
            "Requirement already satisfied: urllib3<1.27,>=1.21.1 in /usr/local/lib/python3.8/dist-packages (from requests->transformers) (1.26.14)\n",
            "Requirement already satisfied: chardet<5,>=3.0.2 in /usr/local/lib/python3.8/dist-packages (from requests->transformers) (4.0.0)\n",
            "Requirement already satisfied: idna<3,>=2.5 in /usr/local/lib/python3.8/dist-packages (from requests->transformers) (2.10)\n"
          ]
        }
      ]
    },
    {
      "cell_type": "markdown",
      "source": [
        "### Constructing Our Dataflow\n",
        "\n",
        "Now we can start writing our dataflow. First we will construct an input based on the Alpaca websocket that we can use to subscribe to stories about multiple tickers. Note that you will need an Alpaca API key and secret and you should store them as environment variables."
      ],
      "metadata": {
        "id": "WyE7SApAZwPU"
      }
    },
    {
      "cell_type": "code",
      "source": [
        "import os\n",
        "import json\n",
        "\n",
        "from bytewax.dataflow import Dataflow\n",
        "from bytewax.inputs import ManualInputConfig, distribute\n",
        "\n",
        "from websocket import create_connection\n",
        "\n",
        "API_KEY = os.getenv(\"API_KEY\")\n",
        "API_SECRET = os.getenv(\"API_SECRET\")\n",
        "\n",
        "ticker_list = [\"*\"]\n",
        "\n",
        "\n",
        "def input_builder(worker_index, worker_count, resume_state):\n",
        "    state = resume_state or None\n",
        "    worker_tickers = list(distribute(ticker_list, worker_index, worker_count))\n",
        "    print({\"subscribing to\": worker_tickers})\n",
        "\n",
        "    def news_input(worker_tickers, state):\n",
        "        ws = create_connection(\"wss://stream.data.alpaca.markets/v1beta1/news\")\n",
        "        print(ws.recv())\n",
        "        ws.send(json.dumps({\"action\":\"auth\",\"key\":f\"{API_KEY}\",\"secret\":f\"{API_SECRET}\"}))\n",
        "        print(ws.recv())\n",
        "        ws.send(json.dumps({\"action\":\"subscribe\",\"news\":worker_tickers}))\n",
        "        print(ws.recv())\n",
        "        \n",
        "        while True:\n",
        "        # to use without API uncomment the below line and comment the one below that\n",
        "        # articles = [{\"T\":\"n\",\"id\":31248067,\"headline\":\"Tesla Vehicles Could Be Banned From Leaving During A Hurricane In This State\",\"summary\":\"A lawmaker in one American state could make it hard for owners of electric vehicles to get out of the state in the event of a hurricane. Here’s the potential law and why it’s important.\",\"author\":\"Chris Katje\",\"created_at\":\"2023-03-07T22:58:40Z\",\"updated_at\":\"2023-03-07T22:58:40Z\",\"url\":\"https://www.benzinga.com/news/23/03/31248067/tesla-vehicles-could-be-banned-from-leaving-during-a-hurricane-in-this-state\",\"content\":\"\\u003cp\\u003eA lawmaker in one American state could make it hard for owners of electric vehicles to get out of the state in the event of a hurricane. Here\\u0026rsquo;s the potential law and why it\\u0026rsquo;s important.\\u003c/p\\u003e\\r\\n\\r\\n\\u003cp\\u003e\\u003cstrong\\u003eWhat Happened:\\u003c/strong\\u003e States have passed laws aimed at banning the sale of gas-powered vehicles in the future. One state took it a step further by seeking to ban electric vehicle \\u003ca href=\\\"https://www.benzinga.com/news/23/01/30424292/taking-on-elon-musk-this-state-legislature-could-ban-electric-vehicle-sales-by-2035\\\"\\u003esales in the future.\\u003c/a\\u003e\\u003c/p\\u003e\\r\\n\\r\\n\\u003cp\\u003eOne of the leading states for electric vehicle purchases could now see a temporary ban on using electric vehicles during the time of a crisis.\\u003c/p\\u003e\\r\\n\\r\\n\\u003cp\\u003eFlorida Republican state Sen.\\u0026nbsp;\\u003cstrong\\u003eJonathan Martin\\u003c/strong\\u003e is considering legislation to ban electric vehicles like those from \\u003cstrong\\u003eTesla Inc\\u003c/strong\\u003e (NASDAQ:\\u003ca class=\\\"ticker\\\" href=\\\"https://www.benzinga.com/stock/TSLA#NASDAQ\\\"\\u003eTSLA\\u003c/a\\u003e) to be used during hurricane evacuations in the state, according to \\u003ca href=\\\"https://electrek.co/2023/03/06/florida-lawmaker-wants-to-ban-evs-from-hurricane-evacuations/\\\"\\u003eElectrek\\u003c/a\\u003e.\\u0026nbsp;\\u003c/p\\u003e\\r\\n\\r\\n\\u003cp\\u003eMartin told the state\\u0026rsquo;s Department of Transportation that electric vehicles could block traffic during evacuations if they run out of battery charge.\\u003c/p\\u003e\\r\\n\\r\\n\\u003cp\\u003eMartin serves on the Committee on Environment and Natural Resources and the Select Committee on Resiliency.\\u003c/p\\u003e\\r\\n\\r\\n\\u003cp\\u003eThe Select Committee on Resiliency met with the Florida Department of Transportation executive director of transportation technologies in Florida.\\u003c/p\\u003e\\r\\n\\r\\n\\u003cp\\u003eAmong the topics discussed were the $198 million the state is going to get from the Bipartisan Infrastructure Law for electric vehicle charging infrastructure from the current administration led by \\u003cstrong\\u003ePresident Joe Biden.\\u003c/strong\\u003e\\u003c/p\\u003e\\r\\n\\r\\n\\u003cp\\u003eThe legislation requires electric vehicle charging stations to be 50 miles apart and serve all electric vehicles.\\u003c/p\\u003e\\r\\n\\r\\n\\u003cp\\u003e\\u0026ldquo;With a couple of guys behind you, you can\\u0026rsquo;t get out of the car and push it to the side of the road. Traffic backs up. And what might look like a two-hour trip might turn into an eight-hour trip once you\\u0026rsquo;re on the road,\\u0026rdquo; Martin said.\\u003c/p\\u003e\\r\\n\\r\\n\\u003cp\\u003eMartin said his concern is with the electric vehicle infrastructure available in the state of Florida.\\u003c/p\\u003e\\r\\n\\r\\n\\u003cp\\u003e\\u003cem\\u003eRelated Link: \\u003ca href=\\\"https://www.benzinga.com/trading-ideas/22/06/27568560/4-stocks-to-watch-this-hurricane-season\\\"\\u003e4 Stocks To Watch This Hurricane Season\\u0026nbsp;\\u003c/a\\u003e\\u003c/em\\u003e\\u003c/p\\u003e\\r\\n\\r\\n\\u003cp\\u003e\\u003cstrong\\u003eWhy It\\u0026rsquo;s Important:\\u003c/strong\\u003e The Florida Department of Transportation told Martin it isn\\u0026rsquo;t a fan of banning electric vehicles during hurricane evacuations and that it is looking into portable EV chargers.\\u003c/p\\u003e\\r\\n\\r\\n\\u003cp\\u003e\\u0026ldquo;We have our emergency assistance vehicles that we deploy during a hurricane evacuation that have gas \\u0026hellip; we need to provide that same level of service to electrical vehicles,\\u0026rdquo; Department of Transportation director of transportation technologies \\u003cstrong\\u003eTrey Tillander \\u003c/strong\\u003esaid.\\u003c/p\\u003e\\r\\n\\r\\n\\u003cp\\u003eThe Tampa Bay Times \\u003ca href=\\\"https://www.tampabay.com/hurricane/2023/02/24/florida-lawmaker-suggests-limiting-electric-vehicles-during-hurricane-evacuations/\\\"\\u003ereported\\u003c/a\\u003e\\u0026nbsp;around 1% of the vehicles in Florida are electric vehicles. One of the owners of an EV is state Sen.\\u0026nbsp;\\u003cstrong\\u003eTina Polsky.\\u003c/strong\\u003e\\u003c/p\\u003e\\r\\n\\r\\n\\u003cp\\u003e\\u0026ldquo;I don\\u0026rsquo;t think you can ban an electric vehicle from evacuating because that may be the only car someone has,\\u0026rdquo; Polsky said.\\u003c/p\\u003e\\r\\n\\r\\n\\u003cp\\u003eIn December 2022, there were 203,094 electric vehicles registered in the state of Florida.\\u003c/p\\u003e\\r\\n\\r\\n\\u003cp\\u003eThe increased funding for charging infrastructure could help ease concerns over charging.\\u003c/p\\u003e\\r\\n\\r\\n\\u003cp\\u003eUltimately, once people are on the road headed out of the state, they likely won\\u0026rsquo;t be able to stop at a charging station, similar to people not being able to quickly stop at a gas station.\\u003c/p\\u003e\\r\\n\\r\\n\\u003cp\\u003eJust like people prepare for the evacuation by filling up their vehicle with gas, owners of electric vehicles will likely need to fully charge their vehicle before evacuating the state.\\u003c/p\\u003e\\r\\n\\r\\n\\u003cp\\u003eThe comments from the state senator may have Florida residents thinking about owning at least one non-electric vehicle or a hybrid to ensure they have the best chance to exit the state without future restrictions and without the potential of running out of charge and not finding stations prevalent.\\u003c/p\\u003e\\r\\n\\r\\n\\u003cp\\u003e\\u003cem\\u003eRead Next:\\u0026nbsp;\\u003ca href=\\\"https://www.benzinga.com/analyst-ratings/analyst-color/23/03/31172188/tesla-analysts-praise-vertical-integration-after-investor-day-but-want-more-from-el\\\"\\u003eTesla Analysts Praise Vertical Integration After Investor Day, But Want More From Elon Musk: \\u0026#39;Long On Vision, Short On Specifics\\u0026#39;\\u003c/a\\u003e\\u003c/em\\u003e\\u003c/p\\u003e\\r\\n\\r\\n\\u003cp\\u003e\\u003cem\\u003ePhoto:\\u0026nbsp;\\u003ca href=\\\"https://www.shutterstock.com/g/hsaduraphotos\\\"\\u003eHenryk Sadura\\u003c/a\\u003e\\u0026nbsp;via Shutterstock\\u003c/em\\u003e\\u003c/p\\u003e\\r\\n\\r\\n\\u003cp\\u003e\\u003cbr /\\u003e\\r\\n\\u0026nbsp;\\u003c/p\\u003e\\r\\n\",\"symbols\":[\"TSLA\"],\"source\":\"benzinga\"}]\n",
        "          articles = json.loads(ws.recv())\n",
        "          for article in articles:\n",
        "            yield state, (article[\"source\"], article)\n",
        "\n",
        "    return news_input(worker_tickers, state)\n",
        "\n",
        "\n",
        "flow = Dataflow()\n",
        "flow.input(\"inp\", ManualInputConfig(input_builder))\n",
        "flow.inspect(print)"
      ],
      "metadata": {
        "id": "ggzpLJyXbTJT"
      },
      "execution_count": 18,
      "outputs": []
    },
    {
      "cell_type": "markdown",
      "source": [
        "The resulting data returned from the news API looks like the json shown here.\n",
        "\n",
        "```json\n",
        "[{\"T\":\"n\",\"id\":31248067,\"headline\":\"Tesla Vehicles Could Be Banned From Leaving During A Hurricane In This State\",\"summary\":\"A lawmaker in one American state could make it hard for owners of electric vehicles to get out of the state in the event of a hurricane. Here’s the potential law and why it’s important.\",\"author\":\"Chris Katje\",\"created_at\":\"2023-03-07T22:58:40Z\",\"updated_at\":\"2023-03-07T22:58:40Z\",\"url\":\"https://www.benzinga.com/news/23/03/31248067/tesla-vehicles-could-be-banned-from-leaving-during-a-hurricane-in-this-state\",\"content\":\"\\u003cp\\u003eA lawmaker in one American state could make it hard for owners of electric vehicles ... ertical Integration After Investor Day, But Want More From Elon Musk: \\u0026#39;Long On Vision, Short On Specifics\\u0026#39;\\u003c/a\\u003e\\u003c/em\\u003e\\u003c/p\\u003e\\r\\n\\r\\n\\u003cp\\u003e\\u003cem\\u003ePhoto:\\u0026nbsp;\\u003ca href=\\\"https://www.shutterstock.com/g/hsaduraphotos\\\"\\u003eHenryk Sadura\\u003c/a\\u003e\\u0026nbsp;via Shutterstock\\u003c/em\\u003e\\u003c/p\\u003e\\r\\n\\r\\n\\u003cp\\u003e\\u003cbr /\\u003e\\r\\n\\u0026nbsp;\\u003c/p\\u003e\\r\\n\",\"symbols\":[\"TSLA\"],\"source\":\"benzinga\"}]\n",
        "```\n",
        "\n",
        " We will use this in the next steps in our dataflow to analyze the sentiment and provide a summary."
      ],
      "metadata": {
        "id": "OeIGJrUqduBb"
      }
    },
    {
      "cell_type": "markdown",
      "source": [
        "Now that we have the dataflow configured we are going to create a step that will check whether or not we have seen the story before. This will use the statefulness capabilities of Bytewax. To do this, we created a list of unique identifiers for each new news article we see. If we have seen the article before we will mark it as an update and if not, we will add the id of the article to the stateful object. We can then use the `filter` operator to filter out the updates so we don't reclassify and summarize them. You can think of this as the equivalent of checking against a database for a unique id."
      ],
      "metadata": {
        "id": "2q0IRTWIcP8V"
      }
    },
    {
      "cell_type": "code",
      "source": [
        "def update_articles(articles, news):\n",
        "    if news['id'] in articles:\n",
        "        news['update'] = True\n",
        "    else:\n",
        "        articles.append(news['id'])\n",
        "        news['update'] = False\n",
        "    return articles, news\n",
        "\n",
        "flow.stateful_map(\"source_articles\", lambda: list(), update_articles)\n",
        "\n",
        "flow.filter(lambda x: not x[1]['update'])"
      ],
      "metadata": {
        "id": "ESuPQg_vbm_n"
      },
      "execution_count": 14,
      "outputs": []
    },
    {
      "cell_type": "markdown",
      "source": [
        "Next up, sentiment analysis. We will use the hugging face model to analyze whether the headline is negative or positive sentiment. We can do this in a map operator. It is deceptively easy because Huggingface and the ML community have done all the hardwork for us."
      ],
      "metadata": {
        "id": "UYzP8UBkiyZ8"
      }
    },
    {
      "cell_type": "code",
      "source": [
        "from transformers import AutoTokenizer, AutoModelForSequenceClassification, pipeline, AutoModelForSeq2SeqLM\n",
        "\n",
        "sent_tokenizer = AutoTokenizer.from_pretrained(\"ahmedrachid/FinancialBERT-Sentiment-Analysis\")\n",
        "sent_model = AutoModelForSequenceClassification.from_pretrained(\"ahmedrachid/FinancialBERT-Sentiment-Analysis\")\n",
        "sent_nlp = pipeline(\"sentiment-analysis\", model=sent_model, tokenizer=sent_tokenizer)\n",
        "\n",
        "def sentiment_analysis(ticker__news):\n",
        "    ticker, news = ticker__news\n",
        "    sentiment = sent_nlp([news[\"headline\"]])\n",
        "    news['sentiment'] = sentiment[0]\n",
        "    print(sentiment[0])\n",
        "    return (ticker, news)\n",
        "\n",
        "flow.map(sentiment_analysis)"
      ],
      "metadata": {
        "id": "jzE96qlli8gX"
      },
      "execution_count": 15,
      "outputs": []
    },
    {
      "cell_type": "markdown",
      "source": [
        "Now to add to that, we can "
      ],
      "metadata": {
        "id": "AOPM4AVQjBIQ"
      }
    },
    {
      "cell_type": "code",
      "source": [
        "import re\n",
        "\n",
        "# Let's create a summarization pipeline\n",
        "sum_tokenizer = AutoTokenizer.from_pretrained(\"facebook/bart-large-cnn\")\n",
        "sum_model = AutoModelForSeq2SeqLM.from_pretrained(\"facebook/bart-large-cnn\")\n",
        "summarizer = pipeline(\"summarization\", tokenizer=sum_tokenizer, model=sum_model)\n",
        "tag_re = re.compile(r'(<!--.*?-->|<[^>]*>)')\n",
        "\n",
        "def summarize(ticker__news):\n",
        "    ticker, news = ticker__news\n",
        "    article = news['content']\n",
        "    article_no_tags = tag_re.sub('', article)\n",
        "    article_no_tags = article_no_tags.replace(\"\\r\", \"\").replace(\"\\n\", \"\")\n",
        "    summary = summarizer(article_no_tags, max_length=130, min_length=30, do_sample=False)\n",
        "    news['bart_summary'] = summary[0]['summary_text']\n",
        "    print(summary[0]['summary_text'])\n",
        "    return (ticker, news)\n",
        "\n",
        "flow.map(summarize)"
      ],
      "metadata": {
        "id": "8ijcZhuYoRHt"
      },
      "execution_count": 16,
      "outputs": []
    },
    {
      "cell_type": "markdown",
      "source": [
        "Now we can output the final news information to our local machine or we could write it to a downstream kafka topic or database for further analysis. \n",
        "\n",
        "Remember you have to be authenticated for this to work!"
      ],
      "metadata": {
        "id": "YybgHZWTpI-2"
      }
    },
    {
      "cell_type": "code",
      "source": [
        "from bytewax.execution import run_main\n",
        "from bytewax.outputs import StdOutputConfig\n",
        "\n",
        "flow.capture(StdOutputConfig())\n",
        "\n",
        "if __name__ == '__main__':\n",
        "    run_main(flow)"
      ],
      "metadata": {
        "colab": {
          "base_uri": "https://localhost:8080/"
        },
        "id": "1p3FCes8pHUQ",
        "outputId": "380c3aa7-f29d-4c86-9cf7-8c95deb3bb8a"
      },
      "execution_count": 17,
      "outputs": [
        {
          "output_type": "stream",
          "name": "stdout",
          "text": [
            "{'subscribing to': ['*']}\n",
            "[{\"T\":\"success\",\"msg\":\"connected\"}]\n",
            "[{\"T\":\"error\",\"code\":402,\"msg\":\"auth failed\"}]\n",
            "[{\"T\":\"error\",\"code\":401,\"msg\":\"not authenticated\"}]\n",
            "('benzinga', {'T': 'n', 'id': 31248067, 'headline': 'Tesla Vehicles Could Be Banned From Leaving During A Hurricane In This State', 'summary': 'A lawmaker in one American state could make it hard for owners of electric vehicles to get out of the state in the event of a hurricane. Here’s the potential law and why it’s important.', 'author': 'Chris Katje', 'created_at': '2023-03-07T22:58:40Z', 'updated_at': '2023-03-07T22:58:40Z', 'url': 'https://www.benzinga.com/news/23/03/31248067/tesla-vehicles-could-be-banned-from-leaving-during-a-hurricane-in-this-state', 'content': '<p>A lawmaker in one American state could make it hard for owners of electric vehicles to get out of the state in the event of a hurricane. Here&rsquo;s the potential law and why it&rsquo;s important.</p>\\r\\n\\r\\n<p><strong>What Happened:</strong> States have passed laws aimed at banning the sale of gas-powered vehicles in the future. One state took it a step further by seeking to ban electric vehicle <a href=\"https://www.benzinga.com/news/23/01/30424292/taking-on-elon-musk-this-state-legislature-could-ban-electric-vehicle-sales-by-2035\">sales in the future.</a></p>\\r\\n\\r\\n<p>One of the leading states for electric vehicle purchases could now see a temporary ban on using electric vehicles during the time of a crisis.</p>\\r\\n\\r\\n<p>Florida Republican state Sen.&nbsp;<strong>Jonathan Martin</strong> is considering legislation to ban electric vehicles like those from <strong>Tesla Inc</strong> (NASDAQ:<a class=\"ticker\" href=\"https://www.benzinga.com/stock/TSLA#NASDAQ\">TSLA</a>) to be used during hurricane evacuations in the state, according to <a href=\"https://electrek.co/2023/03/06/florida-lawmaker-wants-to-ban-evs-from-hurricane-evacuations/\">Electrek</a>.&nbsp;</p>\\r\\n\\r\\n<p>Martin told the state&rsquo;s Department of Transportation that electric vehicles could block traffic during evacuations if they run out of battery charge.</p>\\r\\n\\r\\n<p>Martin serves on the Committee on Environment and Natural Resources and the Select Committee on Resiliency.</p>\\r\\n\\r\\n<p>The Select Committee on Resiliency met with the Florida Department of Transportation executive director of transportation technologies in Florida.</p>\\r\\n\\r\\n<p>Among the topics discussed were the $198 million the state is going to get from the Bipartisan Infrastructure Law for electric vehicle charging infrastructure from the current administration led by <strong>President Joe Biden.</strong></p>\\r\\n\\r\\n<p>The legislation requires electric vehicle charging stations to be 50 miles apart and serve all electric vehicles.</p>\\r\\n\\r\\n<p>&ldquo;With a couple of guys behind you, you can&rsquo;t get out of the car and push it to the side of the road. Traffic backs up. And what might look like a two-hour trip might turn into an eight-hour trip once you&rsquo;re on the road,&rdquo; Martin said.</p>\\r\\n\\r\\n<p>Martin said his concern is with the electric vehicle infrastructure available in the state of Florida.</p>\\r\\n\\r\\n<p><em>Related Link: <a href=\"https://www.benzinga.com/trading-ideas/22/06/27568560/4-stocks-to-watch-this-hurricane-season\">4 Stocks To Watch This Hurricane Season&nbsp;</a></em></p>\\r\\n\\r\\n<p><strong>Why It&rsquo;s Important:</strong> The Florida Department of Transportation told Martin it isn&rsquo;t a fan of banning electric vehicles during hurricane evacuations and that it is looking into portable EV chargers.</p>\\r\\n\\r\\n<p>&ldquo;We have our emergency assistance vehicles that we deploy during a hurricane evacuation that have gas &hellip; we need to provide that same level of service to electrical vehicles,&rdquo; Department of Transportation director of transportation technologies <strong>Trey Tillander </strong>said.</p>\\r\\n\\r\\n<p>The Tampa Bay Times <a href=\"https://www.tampabay.com/hurricane/2023/02/24/florida-lawmaker-suggests-limiting-electric-vehicles-during-hurricane-evacuations/\">reported</a>&nbsp;around 1% of the vehicles in Florida are electric vehicles. One of the owners of an EV is state Sen.&nbsp;<strong>Tina Polsky.</strong></p>\\r\\n\\r\\n<p>&ldquo;I don&rsquo;t think you can ban an electric vehicle from evacuating because that may be the only car someone has,&rdquo; Polsky said.</p>\\r\\n\\r\\n<p>In December 2022, there were 203,094 electric vehicles registered in the state of Florida.</p>\\r\\n\\r\\n<p>The increased funding for charging infrastructure could help ease concerns over charging.</p>\\r\\n\\r\\n<p>Ultimately, once people are on the road headed out of the state, they likely won&rsquo;t be able to stop at a charging station, similar to people not being able to quickly stop at a gas station.</p>\\r\\n\\r\\n<p>Just like people prepare for the evacuation by filling up their vehicle with gas, owners of electric vehicles will likely need to fully charge their vehicle before evacuating the state.</p>\\r\\n\\r\\n<p>The comments from the state senator may have Florida residents thinking about owning at least one non-electric vehicle or a hybrid to ensure they have the best chance to exit the state without future restrictions and without the potential of running out of charge and not finding stations prevalent.</p>\\r\\n\\r\\n<p><em>Read Next:&nbsp;<a href=\"https://www.benzinga.com/analyst-ratings/analyst-color/23/03/31172188/tesla-analysts-praise-vertical-integration-after-investor-day-but-want-more-from-el\">Tesla Analysts Praise Vertical Integration After Investor Day, But Want More From Elon Musk: &#39;Long On Vision, Short On Specifics&#39;</a></em></p>\\r\\n\\r\\n<p><em>Photo:&nbsp;<a href=\"https://www.shutterstock.com/g/hsaduraphotos\">Henryk Sadura</a>&nbsp;via Shutterstock</em></p>\\r\\n\\r\\n<p><br />\\r\\n&nbsp;</p>\\r\\n', 'symbols': ['TSLA'], 'source': 'benzinga'})\n",
            "{'label': 'neutral', 'score': 0.9521949291229248}\n",
            "Florida Republican state Sen. Jonathan Martin is considering legislation to ban electric vehicles during hurricane evacuations. Martin told the state's Department of Transportation that electric vehicles could block traffic during evacuations if they run out of battery charge.\n",
            "('benzinga', {'T': 'n', 'id': 31248067, 'headline': 'Tesla Vehicles Could Be Banned From Leaving During A Hurricane In This State', 'summary': 'A lawmaker in one American state could make it hard for owners of electric vehicles to get out of the state in the event of a hurricane. Here’s the potential law and why it’s important.', 'author': 'Chris Katje', 'created_at': '2023-03-07T22:58:40Z', 'updated_at': '2023-03-07T22:58:40Z', 'url': 'https://www.benzinga.com/news/23/03/31248067/tesla-vehicles-could-be-banned-from-leaving-during-a-hurricane-in-this-state', 'content': '<p>A lawmaker in one American state could make it hard for owners of electric vehicles to get out of the state in the event of a hurricane. Here&rsquo;s the potential law and why it&rsquo;s important.</p>\\r\\n\\r\\n<p><strong>What Happened:</strong> States have passed laws aimed at banning the sale of gas-powered vehicles in the future. One state took it a step further by seeking to ban electric vehicle <a href=\"https:... truncated"
          ]
        }
      ]
    }
  ]
}